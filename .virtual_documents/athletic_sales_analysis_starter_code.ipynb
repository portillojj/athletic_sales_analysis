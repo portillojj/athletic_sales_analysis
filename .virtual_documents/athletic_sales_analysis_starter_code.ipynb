# Import Libraries and Dependencies
import pandas as pd
from pathlib import Path






# Read the CSV files into DataFrames.
# Import
athletic_sales_2020_path = Path('Resources/athletic_sales_2020.csv')
athletic_sales_2021_path = Path('Resources/athletic_sales_2021.csv')

#Read
athletic_sales_2020_df = pd.read_csv(athletic_sales_2020_path)
athletic_sales_2021_df = pd.read_csv(athletic_sales_2021_path)


# Display the 2020 sales DataFrame
athletic_sales_2020_df


# Display the 2021 sales DataFrame
athletic_sales_2021_df





# Check the 2020 sales data types.
athletic_sales_2020_df.dtypes


# Check the 2021 sales data types.
athletic_sales_2021_df.dtypes





# Combine the 2020 and 2021 sales DataFrames on the rows and reset the index.
athletic_sales_2020_21_data = pd.concat([athletic_sales_2020_df,athletic_sales_2021_df], axis="rows", join="inner").reset_index(drop=True)

athletic_sales_2020_21_data


# Check if any values are null.
athletic_sales_2020_21_data.isnull().sum()


# Check the data type of each column
athletic_sales_2020_21_data.dtypes


# Convert the "invoice_date" to a datetime datatype
athletic_sales_2020_21_data['invoice_date'] = pd.to_datetime(athletic_sales_2020_21_data['invoice_date']) 
athletic_sales_2020_21_data.head()


# Confirm that the "invoice_date" data type has been changed.
athletic_sales_2020_21_data.dtypes








# Show the number products sold for region, state, and city.
# Rename the sum to "Total_Products_Sold".
total_products_sold = athletic_sales_2020_21_data.groupby(['region','state','city'])['units_sold'].agg(Total_Products_Sold="sum")



# Show the top 5 results.
total_products_sold.sort_values(by=['Total_Products_Sold'],ascending=False).head()





# Show the number products sold for region, state, and city.
total_products_sold = pd.pivot_table(athletic_sales_2020_21_data,
                                     index=['region','state','city'],
                                     values='units_sold',
                                     aggfunc="sum")

# Rename the "units_sold" column to "Total_Products_Sold"
total_products_sold_1 = total_products_sold.rename(columns={'units_sold':'Total_Products_Sold'})

# Show the top 5 results.
total_products_sold_1.sort_values(by=['Total_Products_Sold'],ascending=False).head()








# Show the total sales for the products sold for each region, state, and city.
# Rename the "total_sales" column to "Total Sales"
total_sales = athletic_sales_2020_21_data.groupby(['region','state','city'])['total_sales'].agg(Total_Sales="sum")


# Show the top 5 results.
total_sales.sort_values(by=['Total_Sales'],ascending=False).head()





# Show the total sales for the products sold for each region, state, and city.
total_sales = pd.pivot_table(athletic_sales_2020_21_data,
                                     index=['region','state','city'],
                                     values='total_sales',
                                     aggfunc="sum")

# Optional: Rename the "total_sales" column to "Total Sales"
total_sales = total_sales.rename(columns={'total_sales':'Total Sales'})


# Show the top 5 results.
total_sales.sort_values(by=['Total Sales'],ascending=False).head()








# Show the total sales for the products sold for each retailer, region, state, and city.
# Rename the "total_sales" column to "Total Sales"
total_retailer_sales = athletic_sales_2020_21_data.groupby(['retailer','region','state','city'])['total_sales'].agg(Total_Sales="sum")

# Show the top 5 results.
total_retailer_sales.sort_values(by=['Total_Sales'],ascending=False).head()





# Show the total sales for the products sold for each retailer, region, state, and city.
total_retailer_sales = pd.pivot_table(athletic_sales_2020_21_data,
                                     index=['retailer','region','state','city'],
                                     values='total_sales',
                                     aggfunc="sum")

# Optional: Rename the "total_sales" column to "Total Sales"
total_retailer_sales = total_retailer_sales.rename(columns={'total_sales':'Total Sales'})


# Show the top 5 results.
total_retailer_sales.sort_values(by=['Total Sales'],ascending=False).head()





# Filter the sales data to get the women's athletic footwear sales data.
filter_retailer_women_ftw = athletic_sales_2020_21_data[athletic_sales_2020_21_data['product'].str.contains("Women's Athletic Footwear")]
filter_retailer_women_ftw





# Show the total number of women's athletic footwear sold for each retailer, region, state, and city.
# Rename the "units_sold" column to "Womens_Footwear_Units_Sold"
filter_sold_women_ftw = filter_retailer_women_ftw.groupby(['retailer','region','state','city'])['units_sold'].agg(Womens_Footwear_Units_Sold="sum")
# Show the top 5 results.

filter_sold_women_ftw.sort_values(by=['Womens_Footwear_Units_Sold'],ascending=False).head()






# Show the total number of women's athletic footwear sold for each retailer, region, state, and city.
filter_sold_women_ftw = pd.pivot_table(filter_retailer_women_ftw,
                                     index=['retailer','region','state','city'],
                                     values='units_sold',
                                     aggfunc="sum")

# Rename the "units_sold" column to "Womens_Footwear_Units_Sold"
filter_sold_women_ftw = filter_sold_women_ftw.rename(columns={'units_sold':'Womens_Footwear_Units_Sold'})
# Show the top 5 results.
filter_sold_women_ftw.sort_values(by=['Womens_Footwear_Units_Sold'],ascending=False).head()





# Create a pivot table with the 'invoice_date' column is the index, and the "total_sales" as the values.
total_days_sales_women_ftw = pd.pivot_table(filter_retailer_women_ftw,
                                     index=['invoice_date'],
                                     values='total_sales',
                                     aggfunc="sum")

# Optional: Rename the "total_sales" column to "Total Sales"
total_days_sales_women_ftw = total_days_sales_women_ftw.rename(columns={'total_sales':'Total Sales'})

# Show the table.
total_days_sales_women_ftw.sort_values(by=['Total Sales'],ascending=False).head(10)


# Resample the pivot table into daily bins, and get the total sales for each day.
daily_sales_women_ftw = total_days_sales_women_ftw.resample('D').sum()

# Sort the resampled pivot table in ascending order on "Total Sales".
daily_sales_women_ftw.sort_values(by='Total Sales', ascending=False).head(10)





# Resample the pivot table into weekly bins, and get the total sales for each week.
weekly_sales_women_ftw = total_days_sales_women_ftw.resample('W').sum()

# Sort the resampled pivot table in ascending order on "Total Sales".
weekly_sales_women_ftw.sort_values(by='Total Sales', ascending=False).head(10)



